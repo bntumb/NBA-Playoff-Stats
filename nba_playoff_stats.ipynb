{
  "nbformat": 4,
  "nbformat_minor": 0,
  "metadata": {
    "colab": {
      "provenance": [],
      "authorship_tag": "ABX9TyOdlwAf4fFgKAmZN2986ylQ",
      "include_colab_link": true
    },
    "kernelspec": {
      "name": "python3",
      "display_name": "Python 3"
    },
    "language_info": {
      "name": "python"
    }
  },
  "cells": [
    {
      "cell_type": "markdown",
      "metadata": {
        "id": "view-in-github",
        "colab_type": "text"
      },
      "source": [
        "<a href=\"https://colab.research.google.com/github/bntumb/NBA-Playoff-Stats/blob/main/nba_playoff_stats.ipynb\" target=\"_parent\"><img src=\"https://colab.research.google.com/assets/colab-badge.svg\" alt=\"Open In Colab\"/></a>"
      ]
    },
    {
      "cell_type": "code",
      "execution_count": 1,
      "metadata": {
        "id": "Y76SYW4HGmtc"
      },
      "outputs": [],
      "source": [
        "import requests\n",
        "import pandas as pd"
      ]
    },
    {
      "cell_type": "code",
      "source": [
        "season_type = 'Playoffs'\n",
        "per_mode = 'PerGame'"
      ],
      "metadata": {
        "id": "QgztOP_-G9pD"
      },
      "execution_count": 2,
      "outputs": []
    },
    {
      "cell_type": "code",
      "source": [
        "data_url = 'https://stats.nba.com/stats/leagueLeaders?LeagueID=00&PerMode='+per_mode+'&Scope=S&Season=2021-22&SeasonType='+season_type+'&StatCategory=PTS'"
      ],
      "metadata": {
        "id": "H_oFtWhwHR-G"
      },
      "execution_count": 3,
      "outputs": []
    },
    {
      "cell_type": "code",
      "source": [
        "headers  = {\n",
        "    'Connection': 'keep-alive',\n",
        "    'Accept': 'application/json, text/plain, */*',\n",
        "    'x-nba-stats-token': 'true',\n",
        "    'User-Agent': 'Mozilla/5.0 (Macintosh; Intel Mac OS X 10_14_6) AppleWebKit/537.36 (KHTML, like Gecko) Chrome/79.0.3945.130 Safari/537.36',\n",
        "    'x-nba-stats-origin': 'stats',\n",
        "    'Sec-Fetch-Site': 'same-origin',\n",
        "    'Sec-Fetch-Mode': 'cors',\n",
        "    'Referer': 'https://stats.nba.com/',\n",
        "    'Accept-Encoding': 'gzip, deflate, br',\n",
        "    'Accept-Language': 'en-US,en;q=0.9',\n",
        "}"
      ],
      "metadata": {
        "id": "JgeurQcQIHTd"
      },
      "execution_count": 4,
      "outputs": []
    },
    {
      "cell_type": "code",
      "source": [
        "response = requests.get(url = data_url, headers=headers).json()"
      ],
      "metadata": {
        "id": "iQAar5NaIM9W"
      },
      "execution_count": 5,
      "outputs": []
    },
    {
      "cell_type": "code",
      "source": [
        "playoff_data_headers = response['resultSet']['headers']\n",
        "playoff_data_info = response['resultSet']['rowSet']"
      ],
      "metadata": {
        "id": "nx5GxD78I006"
      },
      "execution_count": 6,
      "outputs": []
    },
    {
      "cell_type": "markdown",
      "source": [
        "Create a dataframe from the JSON we collected"
      ],
      "metadata": {
        "id": "4RowxhK0LorJ"
      }
    },
    {
      "cell_type": "code",
      "source": [
        "nbaDf = pd.DataFrame(playoff_data_info, columns=playoff_data_headers)"
      ],
      "metadata": {
        "id": "TmYAJEgQKSzU"
      },
      "execution_count": 7,
      "outputs": []
    },
    {
      "cell_type": "code",
      "source": [
        "nbaDf"
      ],
      "metadata": {
        "colab": {
          "base_uri": "https://localhost:8080/",
          "height": 424
        },
        "id": "Vn80K87kJbQf",
        "outputId": "eaaee968-6196-4c43-dca4-2fc0cbd4219f"
      },
      "execution_count": 8,
      "outputs": [
        {
          "output_type": "execute_result",
          "data": {
            "text/plain": [
              "     PLAYER_ID  RANK                   PLAYER TEAM  GP   MIN   FGM   FGA  \\\n",
              "0       203507     1    Giannis Antetokounmpo  MIL  12  37.3  11.7  23.8   \n",
              "1      1629029     1              Luka Doncic  DAL  15  36.8  10.7  23.5   \n",
              "2       203999     3             Nikola Jokic  DEN   5  34.2  12.2  21.2   \n",
              "3       202710     4             Jimmy Butler  MIA  17  37.0   9.8  19.3   \n",
              "4       201939     5            Stephen Curry  GSW  22  34.7   9.2  20.0   \n",
              "..         ...   ...                      ...  ...  ..   ...   ...   ...   \n",
              "143    1629750   144            Javonte Green  CHI   5  14.4   0.6   3.4   \n",
              "144    1627789   145  Timothe Luwawu-Cabarrot  ATL   4   5.5   0.5   1.0   \n",
              "145     202684   146         Tristan Thompson  CHI   5   7.6   0.4   1.0   \n",
              "146    1630267   147         Facundo Campazzo  DEN   4   3.3   0.0   0.5   \n",
              "147    1630201   147            Malachi Flynn  TOR   6   6.0   0.0   1.2   \n",
              "\n",
              "     FG_PCT  FG3M  ...  FT_PCT  OREB  DREB   REB  AST  STL  BLK  TOV   PTS  \\\n",
              "0     0.491   0.8  ...   0.679   2.2  12.0  14.2  6.8  0.7  1.3  4.5  31.7   \n",
              "1     0.455   3.4  ...   0.770   0.7   9.1   9.8  6.4  1.8  0.6  3.9  31.7   \n",
              "2     0.575   1.0  ...   0.848   3.4   9.8  13.2  5.8  1.6  1.0  4.8  31.0   \n",
              "3     0.506   1.4  ...   0.841   2.4   4.9   7.4  4.6  2.1  0.6  1.5  27.4   \n",
              "4     0.459   4.1  ...   0.829   0.5   4.7   5.2  5.9  1.3  0.4  2.6  27.4   \n",
              "..      ...   ...  ...     ...   ...   ...   ...  ...  ...  ...  ...   ...   \n",
              "143   0.176   0.0  ...   0.500   1.6   1.4   3.0  0.4  1.8  0.0  0.8   1.4   \n",
              "144   0.500   0.3  ...   0.000   0.0   0.8   0.8  0.5  0.0  0.0  0.3   1.3   \n",
              "145   0.400   0.0  ...   0.000   0.4   1.2   1.6  0.4  0.2  0.0  1.0   0.8   \n",
              "146   0.000   0.0  ...   0.000   0.0   0.8   0.8  0.5  0.0  0.0  0.5   0.0   \n",
              "147   0.000   0.0  ...   0.000   0.3   0.2   0.5  0.5  0.2  0.0  0.2   0.0   \n",
              "\n",
              "      EFF  \n",
              "0    34.3  \n",
              "1    31.5  \n",
              "2    37.8  \n",
              "3    29.8  \n",
              "4    25.7  \n",
              "..    ...  \n",
              "143   2.8  \n",
              "144   1.8  \n",
              "145   1.4  \n",
              "146   0.3  \n",
              "147  -0.2  \n",
              "\n",
              "[148 rows x 24 columns]"
            ],
            "text/html": [
              "\n",
              "  <div id=\"df-b0c484aa-9d04-46a2-8176-2b991c8421a6\">\n",
              "    <div class=\"colab-df-container\">\n",
              "      <div>\n",
              "<style scoped>\n",
              "    .dataframe tbody tr th:only-of-type {\n",
              "        vertical-align: middle;\n",
              "    }\n",
              "\n",
              "    .dataframe tbody tr th {\n",
              "        vertical-align: top;\n",
              "    }\n",
              "\n",
              "    .dataframe thead th {\n",
              "        text-align: right;\n",
              "    }\n",
              "</style>\n",
              "<table border=\"1\" class=\"dataframe\">\n",
              "  <thead>\n",
              "    <tr style=\"text-align: right;\">\n",
              "      <th></th>\n",
              "      <th>PLAYER_ID</th>\n",
              "      <th>RANK</th>\n",
              "      <th>PLAYER</th>\n",
              "      <th>TEAM</th>\n",
              "      <th>GP</th>\n",
              "      <th>MIN</th>\n",
              "      <th>FGM</th>\n",
              "      <th>FGA</th>\n",
              "      <th>FG_PCT</th>\n",
              "      <th>FG3M</th>\n",
              "      <th>...</th>\n",
              "      <th>FT_PCT</th>\n",
              "      <th>OREB</th>\n",
              "      <th>DREB</th>\n",
              "      <th>REB</th>\n",
              "      <th>AST</th>\n",
              "      <th>STL</th>\n",
              "      <th>BLK</th>\n",
              "      <th>TOV</th>\n",
              "      <th>PTS</th>\n",
              "      <th>EFF</th>\n",
              "    </tr>\n",
              "  </thead>\n",
              "  <tbody>\n",
              "    <tr>\n",
              "      <th>0</th>\n",
              "      <td>203507</td>\n",
              "      <td>1</td>\n",
              "      <td>Giannis Antetokounmpo</td>\n",
              "      <td>MIL</td>\n",
              "      <td>12</td>\n",
              "      <td>37.3</td>\n",
              "      <td>11.7</td>\n",
              "      <td>23.8</td>\n",
              "      <td>0.491</td>\n",
              "      <td>0.8</td>\n",
              "      <td>...</td>\n",
              "      <td>0.679</td>\n",
              "      <td>2.2</td>\n",
              "      <td>12.0</td>\n",
              "      <td>14.2</td>\n",
              "      <td>6.8</td>\n",
              "      <td>0.7</td>\n",
              "      <td>1.3</td>\n",
              "      <td>4.5</td>\n",
              "      <td>31.7</td>\n",
              "      <td>34.3</td>\n",
              "    </tr>\n",
              "    <tr>\n",
              "      <th>1</th>\n",
              "      <td>1629029</td>\n",
              "      <td>1</td>\n",
              "      <td>Luka Doncic</td>\n",
              "      <td>DAL</td>\n",
              "      <td>15</td>\n",
              "      <td>36.8</td>\n",
              "      <td>10.7</td>\n",
              "      <td>23.5</td>\n",
              "      <td>0.455</td>\n",
              "      <td>3.4</td>\n",
              "      <td>...</td>\n",
              "      <td>0.770</td>\n",
              "      <td>0.7</td>\n",
              "      <td>9.1</td>\n",
              "      <td>9.8</td>\n",
              "      <td>6.4</td>\n",
              "      <td>1.8</td>\n",
              "      <td>0.6</td>\n",
              "      <td>3.9</td>\n",
              "      <td>31.7</td>\n",
              "      <td>31.5</td>\n",
              "    </tr>\n",
              "    <tr>\n",
              "      <th>2</th>\n",
              "      <td>203999</td>\n",
              "      <td>3</td>\n",
              "      <td>Nikola Jokic</td>\n",
              "      <td>DEN</td>\n",
              "      <td>5</td>\n",
              "      <td>34.2</td>\n",
              "      <td>12.2</td>\n",
              "      <td>21.2</td>\n",
              "      <td>0.575</td>\n",
              "      <td>1.0</td>\n",
              "      <td>...</td>\n",
              "      <td>0.848</td>\n",
              "      <td>3.4</td>\n",
              "      <td>9.8</td>\n",
              "      <td>13.2</td>\n",
              "      <td>5.8</td>\n",
              "      <td>1.6</td>\n",
              "      <td>1.0</td>\n",
              "      <td>4.8</td>\n",
              "      <td>31.0</td>\n",
              "      <td>37.8</td>\n",
              "    </tr>\n",
              "    <tr>\n",
              "      <th>3</th>\n",
              "      <td>202710</td>\n",
              "      <td>4</td>\n",
              "      <td>Jimmy Butler</td>\n",
              "      <td>MIA</td>\n",
              "      <td>17</td>\n",
              "      <td>37.0</td>\n",
              "      <td>9.8</td>\n",
              "      <td>19.3</td>\n",
              "      <td>0.506</td>\n",
              "      <td>1.4</td>\n",
              "      <td>...</td>\n",
              "      <td>0.841</td>\n",
              "      <td>2.4</td>\n",
              "      <td>4.9</td>\n",
              "      <td>7.4</td>\n",
              "      <td>4.6</td>\n",
              "      <td>2.1</td>\n",
              "      <td>0.6</td>\n",
              "      <td>1.5</td>\n",
              "      <td>27.4</td>\n",
              "      <td>29.8</td>\n",
              "    </tr>\n",
              "    <tr>\n",
              "      <th>4</th>\n",
              "      <td>201939</td>\n",
              "      <td>5</td>\n",
              "      <td>Stephen Curry</td>\n",
              "      <td>GSW</td>\n",
              "      <td>22</td>\n",
              "      <td>34.7</td>\n",
              "      <td>9.2</td>\n",
              "      <td>20.0</td>\n",
              "      <td>0.459</td>\n",
              "      <td>4.1</td>\n",
              "      <td>...</td>\n",
              "      <td>0.829</td>\n",
              "      <td>0.5</td>\n",
              "      <td>4.7</td>\n",
              "      <td>5.2</td>\n",
              "      <td>5.9</td>\n",
              "      <td>1.3</td>\n",
              "      <td>0.4</td>\n",
              "      <td>2.6</td>\n",
              "      <td>27.4</td>\n",
              "      <td>25.7</td>\n",
              "    </tr>\n",
              "    <tr>\n",
              "      <th>...</th>\n",
              "      <td>...</td>\n",
              "      <td>...</td>\n",
              "      <td>...</td>\n",
              "      <td>...</td>\n",
              "      <td>...</td>\n",
              "      <td>...</td>\n",
              "      <td>...</td>\n",
              "      <td>...</td>\n",
              "      <td>...</td>\n",
              "      <td>...</td>\n",
              "      <td>...</td>\n",
              "      <td>...</td>\n",
              "      <td>...</td>\n",
              "      <td>...</td>\n",
              "      <td>...</td>\n",
              "      <td>...</td>\n",
              "      <td>...</td>\n",
              "      <td>...</td>\n",
              "      <td>...</td>\n",
              "      <td>...</td>\n",
              "      <td>...</td>\n",
              "    </tr>\n",
              "    <tr>\n",
              "      <th>143</th>\n",
              "      <td>1629750</td>\n",
              "      <td>144</td>\n",
              "      <td>Javonte Green</td>\n",
              "      <td>CHI</td>\n",
              "      <td>5</td>\n",
              "      <td>14.4</td>\n",
              "      <td>0.6</td>\n",
              "      <td>3.4</td>\n",
              "      <td>0.176</td>\n",
              "      <td>0.0</td>\n",
              "      <td>...</td>\n",
              "      <td>0.500</td>\n",
              "      <td>1.6</td>\n",
              "      <td>1.4</td>\n",
              "      <td>3.0</td>\n",
              "      <td>0.4</td>\n",
              "      <td>1.8</td>\n",
              "      <td>0.0</td>\n",
              "      <td>0.8</td>\n",
              "      <td>1.4</td>\n",
              "      <td>2.8</td>\n",
              "    </tr>\n",
              "    <tr>\n",
              "      <th>144</th>\n",
              "      <td>1627789</td>\n",
              "      <td>145</td>\n",
              "      <td>Timothe Luwawu-Cabarrot</td>\n",
              "      <td>ATL</td>\n",
              "      <td>4</td>\n",
              "      <td>5.5</td>\n",
              "      <td>0.5</td>\n",
              "      <td>1.0</td>\n",
              "      <td>0.500</td>\n",
              "      <td>0.3</td>\n",
              "      <td>...</td>\n",
              "      <td>0.000</td>\n",
              "      <td>0.0</td>\n",
              "      <td>0.8</td>\n",
              "      <td>0.8</td>\n",
              "      <td>0.5</td>\n",
              "      <td>0.0</td>\n",
              "      <td>0.0</td>\n",
              "      <td>0.3</td>\n",
              "      <td>1.3</td>\n",
              "      <td>1.8</td>\n",
              "    </tr>\n",
              "    <tr>\n",
              "      <th>145</th>\n",
              "      <td>202684</td>\n",
              "      <td>146</td>\n",
              "      <td>Tristan Thompson</td>\n",
              "      <td>CHI</td>\n",
              "      <td>5</td>\n",
              "      <td>7.6</td>\n",
              "      <td>0.4</td>\n",
              "      <td>1.0</td>\n",
              "      <td>0.400</td>\n",
              "      <td>0.0</td>\n",
              "      <td>...</td>\n",
              "      <td>0.000</td>\n",
              "      <td>0.4</td>\n",
              "      <td>1.2</td>\n",
              "      <td>1.6</td>\n",
              "      <td>0.4</td>\n",
              "      <td>0.2</td>\n",
              "      <td>0.0</td>\n",
              "      <td>1.0</td>\n",
              "      <td>0.8</td>\n",
              "      <td>1.4</td>\n",
              "    </tr>\n",
              "    <tr>\n",
              "      <th>146</th>\n",
              "      <td>1630267</td>\n",
              "      <td>147</td>\n",
              "      <td>Facundo Campazzo</td>\n",
              "      <td>DEN</td>\n",
              "      <td>4</td>\n",
              "      <td>3.3</td>\n",
              "      <td>0.0</td>\n",
              "      <td>0.5</td>\n",
              "      <td>0.000</td>\n",
              "      <td>0.0</td>\n",
              "      <td>...</td>\n",
              "      <td>0.000</td>\n",
              "      <td>0.0</td>\n",
              "      <td>0.8</td>\n",
              "      <td>0.8</td>\n",
              "      <td>0.5</td>\n",
              "      <td>0.0</td>\n",
              "      <td>0.0</td>\n",
              "      <td>0.5</td>\n",
              "      <td>0.0</td>\n",
              "      <td>0.3</td>\n",
              "    </tr>\n",
              "    <tr>\n",
              "      <th>147</th>\n",
              "      <td>1630201</td>\n",
              "      <td>147</td>\n",
              "      <td>Malachi Flynn</td>\n",
              "      <td>TOR</td>\n",
              "      <td>6</td>\n",
              "      <td>6.0</td>\n",
              "      <td>0.0</td>\n",
              "      <td>1.2</td>\n",
              "      <td>0.000</td>\n",
              "      <td>0.0</td>\n",
              "      <td>...</td>\n",
              "      <td>0.000</td>\n",
              "      <td>0.3</td>\n",
              "      <td>0.2</td>\n",
              "      <td>0.5</td>\n",
              "      <td>0.5</td>\n",
              "      <td>0.2</td>\n",
              "      <td>0.0</td>\n",
              "      <td>0.2</td>\n",
              "      <td>0.0</td>\n",
              "      <td>-0.2</td>\n",
              "    </tr>\n",
              "  </tbody>\n",
              "</table>\n",
              "<p>148 rows × 24 columns</p>\n",
              "</div>\n",
              "      <button class=\"colab-df-convert\" onclick=\"convertToInteractive('df-b0c484aa-9d04-46a2-8176-2b991c8421a6')\"\n",
              "              title=\"Convert this dataframe to an interactive table.\"\n",
              "              style=\"display:none;\">\n",
              "        \n",
              "  <svg xmlns=\"http://www.w3.org/2000/svg\" height=\"24px\"viewBox=\"0 0 24 24\"\n",
              "       width=\"24px\">\n",
              "    <path d=\"M0 0h24v24H0V0z\" fill=\"none\"/>\n",
              "    <path d=\"M18.56 5.44l.94 2.06.94-2.06 2.06-.94-2.06-.94-.94-2.06-.94 2.06-2.06.94zm-11 1L8.5 8.5l.94-2.06 2.06-.94-2.06-.94L8.5 2.5l-.94 2.06-2.06.94zm10 10l.94 2.06.94-2.06 2.06-.94-2.06-.94-.94-2.06-.94 2.06-2.06.94z\"/><path d=\"M17.41 7.96l-1.37-1.37c-.4-.4-.92-.59-1.43-.59-.52 0-1.04.2-1.43.59L10.3 9.45l-7.72 7.72c-.78.78-.78 2.05 0 2.83L4 21.41c.39.39.9.59 1.41.59.51 0 1.02-.2 1.41-.59l7.78-7.78 2.81-2.81c.8-.78.8-2.07 0-2.86zM5.41 20L4 18.59l7.72-7.72 1.47 1.35L5.41 20z\"/>\n",
              "  </svg>\n",
              "      </button>\n",
              "      \n",
              "  <style>\n",
              "    .colab-df-container {\n",
              "      display:flex;\n",
              "      flex-wrap:wrap;\n",
              "      gap: 12px;\n",
              "    }\n",
              "\n",
              "    .colab-df-convert {\n",
              "      background-color: #E8F0FE;\n",
              "      border: none;\n",
              "      border-radius: 50%;\n",
              "      cursor: pointer;\n",
              "      display: none;\n",
              "      fill: #1967D2;\n",
              "      height: 32px;\n",
              "      padding: 0 0 0 0;\n",
              "      width: 32px;\n",
              "    }\n",
              "\n",
              "    .colab-df-convert:hover {\n",
              "      background-color: #E2EBFA;\n",
              "      box-shadow: 0px 1px 2px rgba(60, 64, 67, 0.3), 0px 1px 3px 1px rgba(60, 64, 67, 0.15);\n",
              "      fill: #174EA6;\n",
              "    }\n",
              "\n",
              "    [theme=dark] .colab-df-convert {\n",
              "      background-color: #3B4455;\n",
              "      fill: #D2E3FC;\n",
              "    }\n",
              "\n",
              "    [theme=dark] .colab-df-convert:hover {\n",
              "      background-color: #434B5C;\n",
              "      box-shadow: 0px 1px 3px 1px rgba(0, 0, 0, 0.15);\n",
              "      filter: drop-shadow(0px 1px 2px rgba(0, 0, 0, 0.3));\n",
              "      fill: #FFFFFF;\n",
              "    }\n",
              "  </style>\n",
              "\n",
              "      <script>\n",
              "        const buttonEl =\n",
              "          document.querySelector('#df-b0c484aa-9d04-46a2-8176-2b991c8421a6 button.colab-df-convert');\n",
              "        buttonEl.style.display =\n",
              "          google.colab.kernel.accessAllowed ? 'block' : 'none';\n",
              "\n",
              "        async function convertToInteractive(key) {\n",
              "          const element = document.querySelector('#df-b0c484aa-9d04-46a2-8176-2b991c8421a6');\n",
              "          const dataTable =\n",
              "            await google.colab.kernel.invokeFunction('convertToInteractive',\n",
              "                                                     [key], {});\n",
              "          if (!dataTable) return;\n",
              "\n",
              "          const docLinkHtml = 'Like what you see? Visit the ' +\n",
              "            '<a target=\"_blank\" href=https://colab.research.google.com/notebooks/data_table.ipynb>data table notebook</a>'\n",
              "            + ' to learn more about interactive tables.';\n",
              "          element.innerHTML = '';\n",
              "          dataTable['output_type'] = 'display_data';\n",
              "          await google.colab.output.renderOutput(dataTable, element);\n",
              "          const docLink = document.createElement('div');\n",
              "          docLink.innerHTML = docLinkHtml;\n",
              "          element.appendChild(docLink);\n",
              "        }\n",
              "      </script>\n",
              "    </div>\n",
              "  </div>\n",
              "  "
            ]
          },
          "metadata": {},
          "execution_count": 8
        }
      ]
    },
    {
      "cell_type": "markdown",
      "source": [
        "Check for null values"
      ],
      "metadata": {
        "id": "LDopqshkLiUS"
      }
    },
    {
      "cell_type": "code",
      "source": [
        "nbaDf.isna().sum()"
      ],
      "metadata": {
        "colab": {
          "base_uri": "https://localhost:8080/"
        },
        "id": "vyBkA1JPKySu",
        "outputId": "e7af2943-1494-41e6-ff67-97a7a5174457"
      },
      "execution_count": 9,
      "outputs": [
        {
          "output_type": "execute_result",
          "data": {
            "text/plain": [
              "PLAYER_ID    0\n",
              "RANK         0\n",
              "PLAYER       0\n",
              "TEAM         0\n",
              "GP           0\n",
              "MIN          0\n",
              "FGM          0\n",
              "FGA          0\n",
              "FG_PCT       0\n",
              "FG3M         0\n",
              "FG3A         0\n",
              "FG3_PCT      0\n",
              "FTM          0\n",
              "FTA          0\n",
              "FT_PCT       0\n",
              "OREB         0\n",
              "DREB         0\n",
              "REB          0\n",
              "AST          0\n",
              "STL          0\n",
              "BLK          0\n",
              "TOV          0\n",
              "PTS          0\n",
              "EFF          0\n",
              "dtype: int64"
            ]
          },
          "metadata": {},
          "execution_count": 9
        }
      ]
    },
    {
      "cell_type": "markdown",
      "source": [
        "As I want multiple seasons the data I collected doesn't have a season header so I will have to add one. In the future I will need to ensure that I do this automatically "
      ],
      "metadata": {
        "id": "UosbdzByMVOz"
      }
    },
    {
      "cell_type": "code",
      "source": [
        "nbaDf.insert(0, 'SEASONS', '2021-22')"
      ],
      "metadata": {
        "id": "f1VkyxC7MWnT"
      },
      "execution_count": 10,
      "outputs": []
    },
    {
      "cell_type": "markdown",
      "source": [
        "# Statistics"
      ],
      "metadata": {
        "id": "qbjP6-BgN7tz"
      }
    },
    {
      "cell_type": "code",
      "source": [
        "import seaborn as sns\n",
        "import numpy as np\n"
      ],
      "metadata": {
        "id": "B4AjbofQOEsX"
      },
      "execution_count": 11,
      "outputs": []
    },
    {
      "cell_type": "code",
      "source": [
        "points = nbaDf['PTS'].values\n",
        "mins = nbaDf['MIN'].values"
      ],
      "metadata": {
        "id": "EgDNtkywOTrY"
      },
      "execution_count": 21,
      "outputs": []
    },
    {
      "cell_type": "code",
      "source": [
        "print(type(points), points)"
      ],
      "metadata": {
        "colab": {
          "base_uri": "https://localhost:8080/"
        },
        "id": "xSvJu8ZMO4wS",
        "outputId": "fedb5ccb-2c88-4dbb-ac5d-45862cfa4723"
      },
      "execution_count": 13,
      "outputs": [
        {
          "output_type": "stream",
          "name": "stdout",
          "text": [
            "<class 'numpy.ndarray'> [31.7 31.7 31.  27.4 27.4 27.1 27.  26.3 25.6 25.5 25.2 23.6 23.3 23.1\n",
            " 22.8 22.2 21.8 21.6 21.3 21.2 20.8 20.8 19.4 19.3 19.1 19.  18.8 18.6\n",
            " 18.  17.9 17.5 17.5 17.3 17.  16.9 16.5 15.4 15.4 15.4 15.3 14.8 14.6\n",
            " 14.5 14.5 14.3 14.2 14.  14.  13.8 13.8 13.3 12.6 12.3 12.  12.  12.\n",
            " 11.8 11.7 11.2 11.  10.9 10.8 10.7 10.6 10.6 10.6 10.6 10.6 10.5 10.5\n",
            " 10.2 10.2  9.5  9.4  9.4  9.3  9.2  9.2  9.2  9.2  9.2  8.7  8.6  8.6\n",
            "  8.5  8.5  8.4  8.3  8.2  8.   8.   8.   7.9  7.7  6.9  6.8  6.3  6.3\n",
            "  6.2  6.2  6.2  6.   6.   5.8  5.8  5.6  5.6  5.5  5.4  5.2  5.2  5.2\n",
            "  5.   4.8  4.8  4.8  4.5  4.4  4.3  4.3  4.2  4.2  4.1  4.   4.   4.\n",
            "  4.   3.8  3.8  3.8  3.8  3.7  3.3  3.2  3.1  3.   3.   3.   2.3  2.1\n",
            "  2.   1.8  1.4  1.4  1.3  0.8  0.   0. ]\n"
          ]
        }
      ]
    },
    {
      "cell_type": "markdown",
      "source": [
        "Visualising the data \n",
        "\n",
        "Points vs Rank"
      ],
      "metadata": {
        "id": "lATCTXaTQy_-"
      }
    },
    {
      "cell_type": "code",
      "source": [
        "sns.lmplot(nbaDf.columns[6], nbaDf.columns[23], data = nbaDf, fit_reg=False)"
      ],
      "metadata": {
        "colab": {
          "base_uri": "https://localhost:8080/",
          "height": 441
        },
        "id": "5h4km79KQJQu",
        "outputId": "2135f3a9-5ca3-4b3b-9b78-706f306d7d09"
      },
      "execution_count": 36,
      "outputs": [
        {
          "output_type": "stream",
          "name": "stderr",
          "text": [
            "/usr/local/lib/python3.7/dist-packages/seaborn/_decorators.py:43: FutureWarning: Pass the following variables as keyword args: x, y. From version 0.12, the only valid positional argument will be `data`, and passing other arguments without an explicit keyword will result in an error or misinterpretation.\n",
            "  FutureWarning\n"
          ]
        },
        {
          "output_type": "execute_result",
          "data": {
            "text/plain": [
              "<seaborn.axisgrid.FacetGrid at 0x7fba1cd14090>"
            ]
          },
          "metadata": {},
          "execution_count": 36
        },
        {
          "output_type": "display_data",
          "data": {
            "text/plain": [
              "<Figure size 360x360 with 1 Axes>"
            ],
            "image/png": "[encoded data removed]"
          },
          "metadata": {
            "needs_background": "light"
          }
        }
      ]
    },
    {
      "cell_type": "markdown",
      "source": [
        "##Summary Statistics"
      ],
      "metadata": {
        "id": "YEAD6gtvR4o8"
      }
    },
    {
      "cell_type": "code",
      "source": [
        "print (('Mean - points vs minutes played:', round(np.mean(points), 2), round(np.mean(mins), 2)))\n",
        "print (('Median:', round(np.median(points), 2), round(np.median(mins), 2)))\n",
        "print (('Variance:', round(np.var(points), 2), round(np.var(mins), 2)))\n"
      ],
      "metadata": {
        "colab": {
          "base_uri": "https://localhost:8080/"
        },
        "id": "ZhKVQSlhR9aG",
        "outputId": "4d560aeb-250c-4805-94b6-36af2c3b7516"
      },
      "execution_count": 37,
      "outputs": [
        {
          "output_type": "stream",
          "name": "stdout",
          "text": [
            "('Mean - points vs minutes played:', 11.25, 25.24)\n",
            "('Median:', 9.4, 25.95)\n",
            "('Variance:', 55.83, 107.84)\n"
          ]
        }
      ]
    },
    {
      "cell_type": "markdown",
      "source": [],
      "metadata": {
        "id": "zuNoitFVSgfA"
      }
    }
  ]
}